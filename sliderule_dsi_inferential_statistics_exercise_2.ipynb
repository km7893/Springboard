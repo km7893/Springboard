{
 "cells": [
  {
   "cell_type": "markdown",
   "metadata": {},
   "source": [
    "# Examining Racial Discrimination in the US Job Market\n",
    "\n",
    "### Background\n",
    "Racial discrimination continues to be pervasive in cultures throughout the world. Researchers examined the level of racial discrimination in the United States labor market by randomly assigning identical résumés to black-sounding or white-sounding names and observing the impact on requests for interviews from employers.\n",
    "\n",
    "### Data\n",
    "In the dataset provided, each row represents a resume. The 'race' column has two values, 'b' and 'w', indicating black-sounding and white-sounding. The column 'call' has two values, 1 and 0, indicating whether the resume received a call from employers or not.\n",
    "\n",
    "Note that the 'b' and 'w' values in race are assigned randomly to the resumes when presented to the employer."
   ]
  },
  {
   "cell_type": "markdown",
   "metadata": {},
   "source": [
    "### Exercises\n",
    "You will perform a statistical analysis to establish whether race has a significant impact on the rate of callbacks for resumes.\n",
    "\n",
    "Answer the following questions **in this notebook below and submit to your Github account**. \n",
    "\n",
    "   1. What test is appropriate for this problem? Does CLT apply?\n",
    "   2. What are the null and alternate hypotheses?\n",
    "   3. Compute margin of error, confidence interval, and p-value. Try using both the bootstrapping and the frequentist statistical approaches.\n",
    "   4. Write a story describing the statistical significance in the context or the original problem.\n",
    "   5. Does your analysis mean that race/name is the most important factor in callback success? Why or why not? If not, how would you amend your analysis?\n",
    "\n",
    "You can include written notes in notebook cells using Markdown: \n",
    "   - In the control panel at the top, choose Cell > Cell Type > Markdown\n",
    "   - Markdown syntax: http://nestacms.com/docs/creating-content/markdown-cheat-sheet\n",
    "\n",
    "#### Resources\n",
    "+ Experiment information and data source: http://www.povertyactionlab.org/evaluation/discrimination-job-market-united-states\n",
    "+ Scipy statistical methods: http://docs.scipy.org/doc/scipy/reference/stats.html \n",
    "+ Markdown syntax: http://nestacms.com/docs/creating-content/markdown-cheat-sheet\n",
    "+ Formulas for the Bernoulli distribution: https://en.wikipedia.org/wiki/Bernoulli_distribution"
   ]
  },
  {
   "cell_type": "code",
   "execution_count": null,
   "metadata": {},
   "outputs": [],
   "source": [
    "import pandas as pd\n",
    "import numpy as np\n",
    "from scipy import stats"
   ]
  },
  {
   "cell_type": "code",
   "execution_count": null,
   "metadata": {},
   "outputs": [],
   "source": [
    "data = pd.io.stata.read_stata('data/us_job_market_discrimination.dta')"
   ]
  },
  {
   "cell_type": "code",
   "execution_count": null,
   "metadata": {},
   "outputs": [],
   "source": [
    "# number of callbacks for black-sounding names\n",
    "sum(data[data.race=='w'].call)"
   ]
  },
  {
   "cell_type": "code",
   "execution_count": null,
   "metadata": {},
   "outputs": [],
   "source": [
    "data.head()"
   ]
  },
  {
   "cell_type": "markdown",
   "metadata": {
    "collapsed": true
   },
   "source": [
    "<div class=\"span5 alert alert-success\">\n",
    "<p>Your answers to Q1 and Q2 here</p>\n",
    "</div>\n",
    "\n",
    "\n",
    "Question 1) CLT applies because N is larger than 30. We can perform a 2 sample permutation test to determine how many outcomes result in a call-back deficit at least as extreme as the deficit observed in the dataframe data.\n",
    "Question 2) The null hypothesis would be that companies call back black applicants as frequently as white applicants. The alternative hypothesis is that the rate of callbacks for black applicants is less than for white applicants."
   ]
  },
  {
   "cell_type": "code",
   "execution_count": 26,
   "metadata": {},
   "outputs": [
    {
     "name": "stdout",
     "output_type": "stream",
     "text": [
      "0.0320328548551\n"
     ]
    }
   ],
   "source": [
    "w = data[data.race=='w']\n",
    "b = data[data.race=='b']\n",
    "print(np.mean(w.call)-np.mean(b.call))"
   ]
  },
  {
   "cell_type": "code",
   "execution_count": 53,
   "metadata": {},
   "outputs": [
    {
     "name": "stdout",
     "output_type": "stream",
     "text": [
      "('white std:\\t', 0.29528835, '\\nblack std:\\t', 0.24559963, '\\nmean-diff:\\t', 0.032032855)\n",
      "('error:', 0.007783370603907358)\n",
      "[0.016777448471402157, 0.047288261238719]\n"
     ]
    }
   ],
   "source": [
    "# Your solution to Q3 here(margin of error, confidence interval, p-value using both frequentist and boostrapping methods )\n",
    "#bootstrapping method\n",
    "white = data[data.race=='w'].call.values\n",
    "black = data[data.race=='b'].call.values\n",
    "diff_of_means = np.mean(white) - np.mean(black) #calculate observed difference between callback rates\n",
    "\n",
    "perm_replicates = np.empty(10000) #generate empty array\n",
    "size = len(perm_replicates)\n",
    "for i in range(size): #iterate over indices of range(size) to get a mean callback rate difference between races for each permutation)\n",
    "    permutation_samples = np.random.permutation(np.concatenate((white,black)))\n",
    "    white_sample = permutation_samples[:len(white)]\n",
    "    black_sample = permutation_samples[len(white):]\n",
    "    perm_replicates[i] = np.abs(np.mean(white_sample) - np.mean(black_sample))#get the difference in mean for each permutation of the concatenated array(100000 samples taken)\n",
    "\n",
    "    \n",
    "p_value = np.sum(perm_replicates > diff_of_means) / size\n",
    "#print('p :', p_value)\n",
    "\n",
    "confidence_interval = np.percentile(perm_replicates,[2.5,97.5])\n",
    "#print(confidence_interval)\n",
    "\n",
    "\n",
    "\n",
    "#frequentist tests\n",
    "#compute confidence interval/margin of error: confidence interval = observed_diff +- margin of error \n",
    "#compute test statistic/z score: z score = (test statistic - hypothesized) / standard error\n",
    "white_std = white.std()\n",
    "black_std = black.std()\n",
    "\n",
    "print('white std:\\t',white_std,'\\nblack std:\\t',black_std,'\\nmean-diff:\\t',diff_of_means)\n",
    "std_err = np.sqrt(white_std**2/len(white) + black_std**2/len(black))\n",
    "print('error:',std_err)\n",
    "\n",
    "confidence_interval_freq = [diff_of_means - 1.96 * std_err, diff_of_means + 1.96 * std_err]\n",
    "print(confidence_interval_freq)"
   ]
  },
  {
   "cell_type": "markdown",
   "metadata": {},
   "source": [
    "<div class=\"span5 alert alert-success\">\n",
    "<p> Your answers to Q4 and Q5 here </p>\n",
    "</div>\n",
    "\n",
    "These tests tell the story that there is a significant difference in call back rate between white and black applicants even when resumes are equal/random for employers. This is clear because the p_value in the bootstrapping method was 0 (i.e. in 10000 permutations that created 10000 different \"diff of mean\" variables when the call back rates were assumed in equal, 0 produced a call back rate as extreme as the from the original data set. Also, the confidence interval at 95% did not include 0 which is another indicator that we can reject the null hypothesis at a 5% significance level. \n",
    "\n",
    "Based on this data alone, we cannot conclude that race was the driving factor in the difference of call back rates. Further investigation would be needed. At the very least, we can conclude that employers called back black applicants significantly less frequently than white applicants given that both had the same credentials. It would be beneficial to keep this in mind in our further investigation and carefully examine the correlation between race and any other factors that would also affect call back rate."
   ]
  },
  {
   "cell_type": "code",
   "execution_count": 46,
   "metadata": {},
   "outputs": [
    {
     "name": "stdout",
     "output_type": "stream",
     "text": [
      "('p =', 0)\n",
      "[0.         0.01724846]\n"
     ]
    }
   ],
   "source": []
  },
  {
   "cell_type": "code",
   "execution_count": null,
   "metadata": {},
   "outputs": [],
   "source": []
  }
 ],
 "metadata": {
  "kernelspec": {
   "display_name": "Python 2",
   "language": "python",
   "name": "python2"
  },
  "language_info": {
   "codemirror_mode": {
    "name": "ipython",
    "version": 2
   },
   "file_extension": ".py",
   "mimetype": "text/x-python",
   "name": "python",
   "nbconvert_exporter": "python",
   "pygments_lexer": "ipython2",
   "version": "2.7.14"
  }
 },
 "nbformat": 4,
 "nbformat_minor": 1
}
