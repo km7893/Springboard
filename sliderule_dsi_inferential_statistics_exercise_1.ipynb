{
 "cells": [
  {
   "cell_type": "markdown",
   "metadata": {},
   "source": [
    "# What is the True Normal Human Body Temperature? \n",
    "\n",
    "#### Background\n",
    "\n",
    "The mean normal body temperature was held to be 37$^{\\circ}$C or 98.6$^{\\circ}$F for more than 120 years since it was first conceptualized and reported by Carl Wunderlich in a famous 1868 book. But, is this value statistically correct?"
   ]
  },
  {
   "cell_type": "markdown",
   "metadata": {},
   "source": [
    "<h3>Exercises</h3>\n",
    "\n",
    "<p>In this exercise, you will analyze a dataset of human body temperatures and employ the concepts of hypothesis testing, confidence intervals, and statistical significance.</p>\n",
    "\n",
    "<p>Answer the following questions <b>in this notebook below and submit to your Github account</b>.</p> \n",
    "\n",
    "<ol>\n",
    "<li>  Is the distribution of body temperatures normal? \n",
    "    <ul>\n",
    "    <li> Although this is not a requirement for the Central Limit Theorem to hold (read the introduction on Wikipedia's page about the CLT carefully: https://en.wikipedia.org/wiki/Central_limit_theorem), it gives us some peace of mind that the population may also be normally distributed if we assume that this sample is representative of the population.\n",
    "    <li> Think about the way you're going to check for the normality of the distribution. Graphical methods are usually used first, but there are also other ways: https://en.wikipedia.org/wiki/Normality_test\n",
    "    </ul>\n",
    "<li>  Is the sample size large? Are the observations independent?\n",
    "    <ul>\n",
    "    <li> Remember that this is a condition for the Central Limit Theorem, and hence the statistical tests we are using, to apply.\n",
    "    </ul>\n",
    "<li>  Is the true population mean really 98.6 degrees F?\n",
    "    <ul>\n",
    "    <li> First, try a bootstrap hypothesis test.\n",
    "    <li> Now, let's try frequentist statistical testing. Would you use a one-sample or two-sample test? Why?\n",
    "    <li> In this situation, is it appropriate to use the $t$ or $z$ statistic? \n",
    "    <li> Now try using the other test. How is the result be different? Why?\n",
    "    </ul>\n",
    "<li>  Draw a small sample of size 10 from the data and repeat both frequentist tests. \n",
    "    <ul>\n",
    "    <li> Which one is the correct one to use? \n",
    "    <li> What do you notice? What does this tell you about the difference in application of the $t$ and $z$ statistic?\n",
    "    </ul>\n",
    "<li>  At what temperature should we consider someone's temperature to be \"abnormal\"?\n",
    "    <ul>\n",
    "    <li> As in the previous example, try calculating everything using the boostrap approach, as well as the frequentist approach.\n",
    "    <li> Start by computing the margin of error and confidence interval. When calculating the confidence interval, keep in mind that you should use the appropriate formula for one draw, and not N draws.\n",
    "    </ul>\n",
    "<li>  Is there a significant difference between males and females in normal temperature?\n",
    "    <ul>\n",
    "    <li> What testing approach did you use and why?\n",
    "    <li> Write a story with your conclusion in the context of the original problem.\n",
    "    </ul>\n",
    "</ol>\n",
    "\n",
    "You can include written notes in notebook cells using Markdown: \n",
    "   - In the control panel at the top, choose Cell > Cell Type > Markdown\n",
    "   - Markdown syntax: http://nestacms.com/docs/creating-content/markdown-cheat-sheet\n",
    "\n",
    "#### Resources\n",
    "\n",
    "+ Information and data sources: http://www.amstat.org/publications/jse/datasets/normtemp.txt, http://www.amstat.org/publications/jse/jse_data_archive.htm\n",
    "+ Markdown syntax: http://nestacms.com/docs/creating-content/markdown-cheat-sheet\n",
    "\n",
    "****"
   ]
  },
  {
   "cell_type": "code",
   "execution_count": 51,
   "metadata": {},
   "outputs": [],
   "source": [
    "import pandas as pd\n",
    "import matplotlib.pyplot as plt\n",
    "import numpy as np\n",
    "import scipy.stats as stats\n",
    "df = pd.read_csv('data/human_body_temperature.csv')"
   ]
  },
  {
   "cell_type": "code",
   "execution_count": 52,
   "metadata": {},
   "outputs": [
    {
     "name": "stdout",
     "output_type": "stream",
     "text": [
      "   temperature gender  heart_rate\n",
      "0         99.3      F        68.0\n",
      "1         98.4      F        81.0\n",
      "2         97.8      M        73.0\n",
      "3         99.2      F        66.0\n",
      "4         98.0      F        73.0\n",
      "130\n"
     ]
    }
   ],
   "source": [
    "# Your work here\n",
    "print(df.head())\n",
    "temperature = df['temperature']\n",
    "print(len(temperature))"
   ]
  },
  {
   "cell_type": "code",
   "execution_count": 53,
   "metadata": {},
   "outputs": [
    {
     "data": {
      "image/png": "[encoded data removed]",
      "text/plain": [
       "<matplotlib.figure.Figure at 0xb8a06a0>"
      ]
     },
     "metadata": {},
     "output_type": "display_data"
    }
   ],
   "source": [
    "plt.hist(temperature) # plot histogram of the temperature data to see if it remembers a bell curve\n",
    "plt.xlabel('Temperature')\n",
    "plt.ylabel('Count')\n",
    "plt.title('Human Body Temperature')\n",
    "plt.show() #doesn't look perfectly normally distributed but vaguely resembles a bell curve, further investigation is needed"
   ]
  },
  {
   "cell_type": "code",
   "execution_count": 54,
   "metadata": {},
   "outputs": [],
   "source": [
    "def ecdf(data): #define EDCF function used in data camp exercises to compare temperature ECDF to ECDF from random normal distribution with same mean and std dev\n",
    "    n = len(data)\n",
    "    x = np.sort(data)\n",
    "    y = np.arange(1, n+1) / n\n",
    "    return x,y"
   ]
  },
  {
   "cell_type": "code",
   "execution_count": 55,
   "metadata": {},
   "outputs": [
    {
     "data": {
      "image/png": "[encoded data removed]",
      "text/plain": [
       "<matplotlib.figure.Figure at 0xa28ef28>"
      ]
     },
     "metadata": {},
     "output_type": "display_data"
    }
   ],
   "source": [
    "x_temp, y_temp = ecdf(temperature) #\n",
    "\n",
    "theoretical_temp = np.random.normal(np.mean(temperature), np.std(temperature), 10000)\n",
    "\n",
    "x_theor, y_theor = ecdf(theoretical_temp)\n",
    "\n",
    "plt.plot(x_temp, y_temp, marker='.', linestyle='none', color='red')\n",
    "plt.plot(x_theor,y_theor, color='blue')\n",
    "plt.xlabel('Temperature(F)')\n",
    "plt.ylabel('CDF')\n",
    "plt.title('Human Body Temperature')\n",
    "plt.legend(('CDF', 'ECDF'), loc='lower right')\n",
    "plt.show()"
   ]
  },
  {
   "cell_type": "code",
   "execution_count": 56,
   "metadata": {},
   "outputs": [
    {
     "ename": "SyntaxError",
     "evalue": "invalid syntax (<ipython-input-56-c2f231ed73c2>, line 1)",
     "output_type": "error",
     "traceback": [
      "\u001b[1;36m  File \u001b[1;32m\"<ipython-input-56-c2f231ed73c2>\"\u001b[1;36m, line \u001b[1;32m1\u001b[0m\n\u001b[1;33m    The sample size is 130(given to us by taking the length of the series temperature), which is above the 30 required for the\u001b[0m\n\u001b[1;37m             ^\u001b[0m\n\u001b[1;31mSyntaxError\u001b[0m\u001b[1;31m:\u001b[0m invalid syntax\n"
     ]
    }
   ],
   "source": [
    "The sample size is 130(given to us by taking the length of the series temperature), which is above the 30 required for the \n",
    "central limit theorem to apply. We also assume the observations are independent. "
   ]
  },
  {
   "cell_type": "code",
   "execution_count": null,
   "metadata": {},
   "outputs": [],
   "source": [
    "#Is true population mean 98.6 degrees?\n",
    "\n",
    "bs_replicates = np.empty(10000)#create andd empty array to be filled w the means of the bootstrapped sample\n",
    "\n",
    "for i in range(10000): #use for loop to fill out empty array with the mean of boostrapped sample\n",
    "    bs_sample = np.random.choice(temperature, size = len(temperature))\n",
    "    bs_replicates[i] = np.mean(bs_sample)\n",
    "    \n",
    "p_value = np.sum(bs_replicates >= 98.6) / len(bs_replicates)\n",
    "print(p_value) #p-value is 0, meaning in 10000 samples, the mean of temperature was never as high as 98.6 degrees."
   ]
  },
  {
   "cell_type": "code",
   "execution_count": 57,
   "metadata": {},
   "outputs": [
    {
     "name": "stdout",
     "output_type": "stream",
     "text": [
      "('p = p(z >= 5.476) + p(z <= -5.476) =', 4.3523151658821886e-08)\n"
     ]
    }
   ],
   "source": [
    "#perform a z test \n",
    "\n",
    "z = (np.mean(temperature) - 98.6) / (np.std(temperature) / np.sqrt(len(temperature))) \n",
    "\n",
    "p_value = stats.norm.cdf(z) * 2\n",
    "print('p = p(z >= 5.476) + p(z <= -5.476) =', p_value)\n",
    "\n",
    "#p-value is incredibly small, suggesting we would reject the null hypothesis that the mean of human temperature is 98.6 "
   ]
  },
  {
   "cell_type": "code",
   "execution_count": 58,
   "metadata": {},
   "outputs": [
    {
     "name": "stdout",
     "output_type": "stream",
     "text": [
      "('t =', -5.475925202078116)\n",
      "('p = p(t >= 5.476) + p(t <= -5.476) =', 2.1887464624095175e-07)\n"
     ]
    }
   ],
   "source": [
    "t = z\n",
    "print('t =', t)\n",
    "\n",
    "p_t = stats.t.sf(np.abs(t), len(temperature)-1)*2\n",
    "print('p = p(t >= 5.476) + p(t <= -5.476) =', p_t)\n",
    "#p-value is incredibly small again so we again reject the null hypothesis"
   ]
  },
  {
   "cell_type": "code",
   "execution_count": 68,
   "metadata": {},
   "outputs": [
    {
     "name": "stdout",
     "output_type": "stream",
     "text": [
      "('p = ', 0.13196032977844674)\n",
      "('p = ', 0.2928554997029621)\n"
     ]
    }
   ],
   "source": [
    "#draw a sample size of 10 from the data and repeat z and t tests\n",
    "sample = np.random.choice(temperature,size=10)\n",
    "\n",
    "z = (np.mean(sample) - 98.6) / (np.std(sample) / np.sqrt(10))\n",
    "p_value2 = stats.norm.cdf(z)\n",
    "print('p = ', p_value2)\n",
    "\n",
    "t=z\n",
    "p_value3 = stats.t.sf(np.abs(t), 9) * 2\n",
    "print('p = ', p_value3)\n",
    "#the p-values are much different and would lead you to very different conclusions depending on which one you used. In this instance, with a sample size of 10, we should duse the t-statistic."
   ]
  },
  {
   "cell_type": "code",
   "execution_count": 72,
   "metadata": {},
   "outputs": [
    {
     "name": "stdout",
     "output_type": "stream",
     "text": [
      "[96.7225 99.4775]\n",
      "[98.12384615 98.37461538]\n"
     ]
    }
   ],
   "source": [
    "#what temperature should be considered abnormal?start with boostrap approach depends on the metric you use\n",
    "#calculate 95% confidence interval of the full sample mean of temperature and also of bootstrapped replicates \n",
    "\n",
    "confidence_interval = np.percentile(temperature, [2.5,97.5])\n",
    "print(confidence_interval)\n",
    "\n",
    "bs_replicates = np.empty(100000)\n",
    "\n",
    "for i in range(100000):\n",
    "    bs_sample = np.random.choice(temperature, size = len(temperature))\n",
    "    bs_replicates[i] = np.mean(bs_sample)\n",
    "    \n",
    "bootstrapped_confidence_interval = np.percentile(bs_replicates,[2.5,97.5])\n",
    "print(bootstrapped_confidence_interval)\n",
    "\n",
    "#Depending on how we define abnormal, a human's temperature could be considered abnormal if it were to fall out of the range of \n",
    "#either of these 2 confidence intervals. Obviously, the first interval makes more sense to use here in my opinion."
   ]
  },
  {
   "cell_type": "code",
   "execution_count": 75,
   "metadata": {},
   "outputs": [
    {
     "data": {
      "image/png": "[encoded data removed]",
      "text/plain": [
       "<matplotlib.figure.Figure at 0x9dc9470>"
      ]
     },
     "metadata": {},
     "output_type": "display_data"
    }
   ],
   "source": [
    "#Is there a significant difference in temperatures between male and female?\n",
    "male_temperature = df[df['gender'] == 'M']['temperature']\n",
    "female_temperature = df[df['gender'] == 'F']['temperature']\n",
    "\n",
    "x_male, y_male = ecdf(male_temperature)\n",
    "x_female, y_female = ecdf(female_temperature)\n",
    "plt.plot(x_male,y_male,marker='.', linestyle = 'none', color='red')\n",
    "plt.plot(x_female,y_female, marker='.', linestyle = 'none', color='blue')\n",
    "plt.show()\n"
   ]
  },
  {
   "cell_type": "code",
   "execution_count": 76,
   "metadata": {},
   "outputs": [
    {
     "name": "stdout",
     "output_type": "stream",
     "text": [
      "0\n"
     ]
    }
   ],
   "source": [
    "diff_of_means = np.mean(male_temperature) - np.mean(female_temperature) #calculate the difference of means observed in the sample \n",
    "\n",
    "permutation_replicates = np.empty(10000) #create an empty array to fill with permutations of the data from the concatenated array\n",
    "\n",
    "size = len(permutation_replicates)\n",
    "\n",
    "for i in range(size): \n",
    "    combined_permutation_temps = np.random.permutation(np.concatenate([male_temperature,female_temperature]))\n",
    "    perm_samples_male = combined_permutation_temps[:len(male_temperature)]\n",
    "    perm_samples_female = combined_permutation_temps[len(male_temperature):]\n",
    "    permutation_replicates[i] = np.mean(perm_samples_male) - np.mean(perm_samples_female)\n",
    "    \n",
    "p_value = np.sum(permutation_replicates >= diff_of_means) / size\n",
    "print(p_value)"
   ]
  },
  {
   "cell_type": "code",
   "execution_count": null,
   "metadata": {},
   "outputs": [],
   "source": []
  },
  {
   "cell_type": "code",
   "execution_count": null,
   "metadata": {},
   "outputs": [],
   "source": []
  },
  {
   "cell_type": "code",
   "execution_count": null,
   "metadata": {},
   "outputs": [],
   "source": []
  }
 ],
 "metadata": {
  "kernelspec": {
   "display_name": "Python 2",
   "language": "python",
   "name": "python2"
  },
  "language_info": {
   "codemirror_mode": {
    "name": "ipython",
    "version": 2
   },
   "file_extension": ".py",
   "mimetype": "text/x-python",
   "name": "python",
   "nbconvert_exporter": "python",
   "pygments_lexer": "ipython2",
   "version": "2.7.14"
  }
 },
 "nbformat": 4,
 "nbformat_minor": 1
}
